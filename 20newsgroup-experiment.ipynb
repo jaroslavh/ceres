{
 "cells": [
  {
   "cell_type": "code",
   "execution_count": null,
   "metadata": {},
   "outputs": [],
   "source": [
    "# enable importing from root dir\n",
    "import sys\n",
    "sys.path.append('..')\n",
    "\n",
    "import pandas as pd\n",
    "\n",
    "from experiment import Experiment\n",
    "import algorithms\n",
    "import visualize\n",
    "import pynndescent\n",
    "from sklearn import datasets\n",
    "\n",
    "sim = pynndescent.distances.cosine"
   ]
  },
  {
   "cell_type": "markdown",
   "metadata": {
    "tags": []
   },
   "source": [
    "# Load Data"
   ]
  },
  {
   "cell_type": "code",
   "execution_count": null,
   "metadata": {
    "collapsed": false,
    "jupyter": {
     "outputs_hidden": false
    }
   },
   "outputs": [],
   "source": [
    "X, y = datasets.fetch_20newsgroups_vectorized(subset=\"all\", return_X_y=True)"
   ]
  },
  {
   "cell_type": "code",
   "execution_count": null,
   "metadata": {
    "collapsed": false,
    "jupyter": {
     "outputs_hidden": false
    }
   },
   "outputs": [],
   "source": [
    "from dataset import Dataset"
   ]
  },
  {
   "cell_type": "code",
   "execution_count": null,
   "metadata": {
    "collapsed": false,
    "jupyter": {
     "outputs_hidden": false
    }
   },
   "outputs": [],
   "source": [
    "from sklearn.model_selection import train_test_split"
   ]
  },
  {
   "cell_type": "code",
   "execution_count": null,
   "metadata": {
    "collapsed": false,
    "jupyter": {
     "outputs_hidden": false
    }
   },
   "outputs": [],
   "source": [
    "X_train, X_test, y_train, y_test = train_test_split(X, y, random_state=None)"
   ]
  },
  {
   "cell_type": "code",
   "execution_count": null,
   "metadata": {},
   "outputs": [],
   "source": [
    "dataset = Dataset(X_train.toarray(), X_test.toarray(), y_train, y_test)"
   ]
  },
  {
   "cell_type": "markdown",
   "metadata": {
    "collapsed": false,
    "jupyter": {
     "outputs_hidden": false
    }
   },
   "source": [
    "# Estimate homogeneities and prepre for computation"
   ]
  },
  {
   "cell_type": "code",
   "execution_count": null,
   "metadata": {},
   "outputs": [],
   "source": [
    "homogeneities = dict()\n",
    "\n",
    "for cluster_id in dataset.classes:\n",
    "    homogeneities[cluster_id] = dataset.get_class_distance_threshold(cluster_id, quantile=None, similarity=sim, sample_rate = 0.5)\n",
    "    # homogeneities[cluster_id] = dataset.get_class_homogeneity(cluster_id, sim, sample_rate=1)"
   ]
  },
  {
   "cell_type": "code",
   "execution_count": null,
   "metadata": {
    "collapsed": false,
    "jupyter": {
     "outputs_hidden": false
    }
   },
   "outputs": [],
   "source": [
    "homogeneities"
   ]
  },
  {
   "cell_type": "markdown",
   "metadata": {},
   "source": [
    "# Setup and Run Experiment"
   ]
  },
  {
   "cell_type": "code",
   "execution_count": null,
   "metadata": {},
   "outputs": [],
   "source": [
    "algs = [algorithms.nndescent_reverse_neighbors,\n",
    "        algorithms.nndescent_reverse_neighbors,\n",
    "        algorithms.nndescent_reverse_neighbors,\n",
    "        algorithms.delta_medoids,\n",
    "        algorithms.ds3,\n",
    "        algorithms.random_select]\n",
    "\n",
    "# crs param order: sample_rate, similarity, K, threshold (homogeneity)\n",
    "# sample_rate - parameter of NN-Descent - makes it run faster [0-0.5], 0.1 default, 0.3 proposed max\n",
    "# similarity - similarity used\n",
    "# K - k used for NNDescent\n",
    "pars = [{\"sample_rate\":0.5, \"similarity\":sim, \"K\":10},\n",
    "        {\"sample_rate\":0.5, \"similarity\":sim, \"K\":20},\n",
    "        {\"sample_rate\":0.5, \"similarity\":sim, \"K\":30},\n",
    "        {\"dist\": sim},\n",
    "        {\"similarity\":sim},\n",
    "        {\"select\": 0.05}]\n",
    "\n",
    "\n",
    "coverage = .95\n",
    "exp = Experiment(dataset, coverage, algs, pars, homogeneities)"
   ]
  },
  {
   "cell_type": "code",
   "execution_count": null,
   "metadata": {},
   "outputs": [],
   "source": [
    "import datetime\n",
    "now = datetime.datetime.now()\n",
    "print(now)"
   ]
  },
  {
   "cell_type": "code",
   "execution_count": null,
   "metadata": {},
   "outputs": [],
   "source": [
    "results = exp.run()"
   ]
  },
  {
   "cell_type": "code",
   "execution_count": null,
   "metadata": {},
   "outputs": [],
   "source": [
    "import datetime\n",
    "end = datetime.datetime.now()\n",
    "print(end)\n",
    "print(f\"duration: {end - now}\")"
   ]
  },
  {
   "cell_type": "markdown",
   "metadata": {},
   "source": [
    "# Classification"
   ]
  },
  {
   "cell_type": "code",
   "execution_count": null,
   "metadata": {},
   "outputs": [],
   "source": [
    "import classifier"
   ]
  },
  {
   "cell_type": "code",
   "execution_count": null,
   "metadata": {},
   "outputs": [],
   "source": [
    "C = classifier.KnnClassifier(sim, K=1)"
   ]
  },
  {
   "cell_type": "code",
   "execution_count": null,
   "metadata": {
    "pycharm": {
     "is_executing": true
    },
    "scrolled": true
   },
   "outputs": [],
   "source": [
    "classification_res = dict()\n",
    "for i, result in enumerate(results):\n",
    "    # TODO prototypes should be saved separately as the ones selected (possibly with indices to original dataset)\n",
    "    test_data=dataset.get_test_data()\n",
    "    key = f\"{result.algorithm}_i\"\n",
    "    classification_res[key] = C.classifySklearn(prototypes=(result.samples, result.labels),\n",
    "                                         test_data=test_data)\n",
    "    print(key)\n",
    "    # print(classification_res[key])"
   ]
  },
  {
   "cell_type": "markdown",
   "metadata": {},
   "source": [
    "# Visualization confusion matrices"
   ]
  },
  {
   "cell_type": "code",
   "execution_count": null,
   "metadata": {},
   "outputs": [],
   "source": [
    "matrices = []\n",
    "labels = []\n",
    "for i in classification_res.values():\n",
    "    matrices.append(i)\n",
    "    labels.append(i[1])"
   ]
  },
  {
   "cell_type": "code",
   "execution_count": null,
   "metadata": {
    "pycharm": {
     "is_executing": true
    }
   },
   "outputs": [],
   "source": [
    "visualize.plot_confusion_matrices(matrices, ['CRS-k40', 'Delta Medoids', 'DS3', 'Random Select'], labels).show()"
   ]
  },
  {
   "cell_type": "code",
   "execution_count": null,
   "metadata": {
    "pycharm": {
     "is_executing": true
    }
   },
   "outputs": [],
   "source": [
    "# calculating precision recall from conf_matrix\n",
    "precision_recall_dfs = [None]*len(matrices)\n",
    "labels = ['cluster', 'size', 'selected', 'precision', 'recall']\n",
    "precisions = []\n",
    "for i, matrix in enumerate(matrices):\n",
    "    cols = visualize.calculate_precision_recall(matrix, results[i].labels, dataset)\n",
    "    precisions.append(cols[-1][0])\n",
    "    precision_recall_dfs[i] = visualize.resultDF(labels, cols)"
   ]
  },
  {
   "cell_type": "code",
   "execution_count": null,
   "metadata": {
    "pycharm": {
     "is_executing": true
    }
   },
   "outputs": [],
   "source": [
    "precisions"
   ]
  },
  {
   "cell_type": "code",
   "execution_count": null,
   "metadata": {
    "pycharm": {
     "is_executing": true
    }
   },
   "outputs": [],
   "source": [
    "for df in precision_recall_dfs:\n",
    "    df['cluster'] = df['cluster'].apply(pd.to_numeric)\n",
    "    visualize.pandas_df_to_markdown_table(df.sort_values(by=['cluster']))"
   ]
  },
  {
   "cell_type": "markdown",
   "metadata": {
    "collapsed": false,
    "jupyter": {
     "outputs_hidden": false
    }
   },
   "source": [
    "# Visualization precision/recall"
   ]
  },
  {
   "cell_type": "code",
   "execution_count": null,
   "metadata": {
    "collapsed": false,
    "jupyter": {
     "outputs_hidden": false
    }
   },
   "outputs": [],
   "source": [
    "matrices = []\n",
    "labels = []\n",
    "for i in classification_res.values():\n",
    "    matrices.append(i)\n",
    "    labels.append(i[1])"
   ]
  },
  {
   "cell_type": "code",
   "execution_count": null,
   "metadata": {
    "collapsed": false,
    "jupyter": {
     "outputs_hidden": false
    }
   },
   "outputs": [],
   "source": [
    "visualize.plot_confusion_matrices(matrices, ['CRS-k10', 'Delta Medoids', 'Random Select'], labels).show()"
   ]
  },
  {
   "cell_type": "code",
   "execution_count": null,
   "metadata": {
    "collapsed": false,
    "jupyter": {
     "outputs_hidden": false
    }
   },
   "outputs": [],
   "source": [
    "# calculating precision recall from conf_matrix\n",
    "precision_recall_dfs = [None]*len(matrices)\n",
    "labels = ['cluster', 'size', 'selected', 'precision', 'recall']\n",
    "precisions = []\n",
    "for i, matrix in enumerate(matrices):\n",
    "    cols = visualize.calculate_precision_recall(matrix, results[i].labels, dataset)\n",
    "    precisions.append(cols[-1][0])\n",
    "    precision_recall_dfs[i] = visualize.resultDF(labels, cols)"
   ]
  },
  {
   "cell_type": "code",
   "execution_count": null,
   "metadata": {
    "collapsed": false,
    "jupyter": {
     "outputs_hidden": false
    }
   },
   "outputs": [],
   "source": [
    "precisions"
   ]
  },
  {
   "cell_type": "code",
   "execution_count": null,
   "metadata": {
    "collapsed": false,
    "jupyter": {
     "outputs_hidden": false
    }
   },
   "outputs": [],
   "source": [
    "for df in precision_recall_dfs:\n",
    "    df['cluster'] = df['cluster'].apply(pd.to_numeric)\n",
    "    visualize.pandas_df_to_markdown_table(df.sort_values(by=['cluster']))"
   ]
  },
  {
   "cell_type": "code",
   "execution_count": null,
   "metadata": {
    "collapsed": false,
    "jupyter": {
     "outputs_hidden": false
    }
   },
   "outputs": [],
   "source": []
  }
 ],
 "metadata": {
  "kernelspec": {
   "display_name": "Python 3 (ipykernel)",
   "language": "python",
   "name": "python3"
  },
  "language_info": {
   "codemirror_mode": {
    "name": "ipython",
    "version": 3
   },
   "file_extension": ".py",
   "mimetype": "text/x-python",
   "name": "python",
   "nbconvert_exporter": "python",
   "pygments_lexer": "ipython3",
   "version": "3.9.13"
  }
 },
 "nbformat": 4,
 "nbformat_minor": 4
}
