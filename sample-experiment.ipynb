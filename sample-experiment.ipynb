{
 "cells": [
  {
   "cell_type": "code",
   "execution_count": null,
   "metadata": {},
   "outputs": [],
   "source": [
    "import matplotlib.pyplot as plt\n",
    "import numpy as np\n",
    "\n",
    "import data_loader\n",
    "import algorithms\n",
    "import visualize\n",
    "import pynndescent\n",
    "from experiment import Experiment\n",
    "\n",
    "sim = pynndescent.distances.cosine"
   ]
  },
  {
   "cell_type": "markdown",
   "metadata": {
    "tags": []
   },
   "source": [
    "# Load Data"
   ]
  },
  {
   "cell_type": "code",
   "execution_count": null,
   "metadata": {},
   "outputs": [],
   "source": [
    "dataset = data_loader.read_npy('datasets_open/spirals150.npy')\n",
    "# dataset = data_loader.read_npy('datasets_open/blobs.npy')\n"
   ]
  },
  {
   "cell_type": "markdown",
   "metadata": {
    "collapsed": false
   },
   "source": [
    "# Estimate homogeneities and prepre for computation"
   ]
  },
  {
   "cell_type": "code",
   "execution_count": null,
   "metadata": {},
   "outputs": [],
   "source": [
    "homogeneities = dict()\n",
    "\n",
    "for cluster_id in dataset.classes:\n",
    "    homogeneities[cluster_id] = dataset.get_class_distance_threshold(cluster_id, quantile=None, similarity=sim, sample_rate = 1.0)\n",
    "    # homogeneities[cluster_id] = dataset.get_class_homogeneity(cluster_id, similarity=sim, sample_rate = 0.5)\n",
    "\n",
    "print(homogeneities)"
   ]
  },
  {
   "cell_type": "markdown",
   "metadata": {},
   "source": [
    "# Setup and Run Experiment"
   ]
  },
  {
   "cell_type": "code",
   "execution_count": null,
   "metadata": {},
   "outputs": [],
   "source": [
    "algs = [algorithms.nndescent_reverse_neighbors,\n",
    "        algorithms.nndescent_reverse_neighbors,\n",
    "        algorithms.delta_medoids,\n",
    "        algorithms.random_select]\n",
    "# crs param order: sample_rate, similarity, K, threshold (homogeneity)\n",
    "# sample_rate - parameter of NN-Descent - makes it run faster [0-0.5], 0.1 default, 0.3 proposed max\n",
    "# similarity - similarity used\n",
    "# K - k used for NNDescent\n",
    "pars = [{\"sample_rate\":0.5, \"similarity\":sim, \"K\":10},\n",
    "        {\"sample_rate\":0.5, \"similarity\":sim, \"K\":20},\n",
    "        {\"dist\": sim},\n",
    "        {\"select\": 0.05}]\n",
    "\n",
    "coverage = .95\n",
    "exp = Experiment(dataset, coverage, algs, pars, homogeneities)"
   ]
  },
  {
   "cell_type": "code",
   "execution_count": null,
   "metadata": {
    "scrolled": true
   },
   "outputs": [],
   "source": [
    "results = exp.run()"
   ]
  },
  {
   "cell_type": "markdown",
   "metadata": {},
   "source": [
    "## Classification"
   ]
  },
  {
   "cell_type": "code",
   "execution_count": null,
   "metadata": {},
   "outputs": [],
   "source": [
    "import classifier"
   ]
  },
  {
   "cell_type": "code",
   "execution_count": null,
   "metadata": {},
   "outputs": [],
   "source": [
    "C = classifier.KnnClassifier(sim, K=1)"
   ]
  },
  {
   "cell_type": "code",
   "execution_count": null,
   "metadata": {
    "scrolled": true
   },
   "outputs": [],
   "source": [
    "classification_res = dict()\n",
    "for result in results:\n",
    "    # TODO prototypes should be saved separately as the ones selected (possibly with indices to original dataset)\n",
    "    test_data=dataset.get_test_data()\n",
    "    classification_res[result.algorithm] = C.classifySklearn(prototypes=(result.samples, result.labels),\n",
    "                                         test_data=test_data)\n",
    "    print(result.algorithm)\n",
    "    print(classification_res[result.algorithm])"
   ]
  },
  {
   "cell_type": "markdown",
   "metadata": {},
   "source": [
    "## Visualization"
   ]
  },
  {
   "cell_type": "code",
   "execution_count": null,
   "metadata": {},
   "outputs": [],
   "source": [
    "matrices = []\n",
    "labels = []\n",
    "for i in classification_res.values():\n",
    "    matrices.append(i)\n",
    "    labels.append(i[1])"
   ]
  },
  {
   "cell_type": "code",
   "execution_count": null,
   "metadata": {
    "scrolled": true
   },
   "outputs": [],
   "source": [
    "visualize.plot_confusion_matrices(matrices, ['CRS-k10', 'Delta Medoids', 'Random Select'], labels).show()"
   ]
  },
  {
   "cell_type": "code",
   "execution_count": null,
   "metadata": {},
   "outputs": [],
   "source": [
    "# calculating precision recall from conf_matrix\n",
    "precision_recall_dfs = [None]*len(matrices)\n",
    "labels = ['cluster', 'size', 'selected', 'precision', 'recall']\n",
    "precisions = []\n",
    "for i, matrix in enumerate(matrices):\n",
    "    cols = visualize.calculate_precision_recall(matrix, results[i].labels, dataset)\n",
    "    precisions.append(cols[-1][0])\n",
    "    precision_recall_dfs[i] = visualize.resultDF(labels, cols)"
   ]
  },
  {
   "cell_type": "code",
   "execution_count": null,
   "metadata": {},
   "outputs": [],
   "source": [
    "precisions"
   ]
  },
  {
   "cell_type": "code",
   "execution_count": null,
   "metadata": {},
   "outputs": [],
   "source": [
    "for df in precision_recall_dfs:\n",
    "    df['cluster'] = df['cluster'].apply(pd.to_numeric)\n",
    "    visualize.pandas_df_to_markdown_table(df.sort_values(by=['cluster']))"
   ]
  },
  {
   "cell_type": "markdown",
   "metadata": {},
   "source": [
    "## Visualising simple datasets"
   ]
  },
  {
   "cell_type": "code",
   "execution_count": null,
   "metadata": {},
   "outputs": [],
   "source": [
    "def plot_colored(samples, labels, background_samples, background_labels, plt):\n",
    "    colors = ['b', 'r', 'g']\n",
    "    colors_dimmed = ['#CCE5FF', '#FFCCCC', '#CCFFCC']\n",
    "\n",
    "    colored = dict()\n",
    "    for i, c in enumerate(colors):\n",
    "        x = [j[0] for ix,j in enumerate(samples) if i == labels[ix]]\n",
    "        y = [j[1] for ix,j in enumerate(samples) if i == labels[ix]]\n",
    "        colored[c] = (x,y)\n",
    "        \n",
    "    background = dict()\n",
    "    for i, c in enumerate(colors_dimmed):\n",
    "        x = [j[0] for ix,j in enumerate(background_samples) if i == background_labels[ix]]\n",
    "        y = [j[1] for ix,j in enumerate(background_samples) if i == background_labels[ix]]\n",
    "        background[c] = (x,y)\n",
    "    \n",
    "    # Plot\"\n",
    "    for c, cd in zip(colors, colors_dimmed):\n",
    "        plt.scatter(background[cd][0], background[cd][1], color=cd)\n",
    "        plt.scatter(colored[c][0],colored[c][1], color=c, marker='X', s=100)\n",
    "        plt.axis('off')\n",
    "    \n",
    "    plt.xlabel('x')\n",
    "    plt.ylabel('y')\n"
   ]
  },
  {
   "cell_type": "code",
   "execution_count": null,
   "metadata": {},
   "outputs": [],
   "source": [
    "all_points = np.concatenate(list(dataset.train.values()))\n",
    "all_labels = np.concatenate([[k]*len(v) for k, v in dataset.train.items()])\n",
    "\n",
    "fig = plt.figure(figsize=(32,6))\n",
    "axes = []\n",
    "\n",
    "As = ['CRS-10', 'CRS-20']#, 'CRS-40',]\n",
    "# As = ['CRS-10', 'CRS-20', 'delta-Medoids', 'DS3']#, 'Random Select']\n",
    "\n",
    "for i in range(len(As)):\n",
    "    prototype_data = results[i].samples\n",
    "    prototype_labels = results[i].labels\n",
    "    axes.append(plt.subplot(161+i))\n",
    "    plot_colored(prototype_data, prototype_labels, all_points, all_labels, plt)\n",
    "\n",
    "import math\n",
    "print(len(axes))\n",
    "for a, ax in zip(As, axes):\n",
    "    ax.set_title(a, size=18)\n",
    "\n",
    "\n",
    "fig.savefig('struct.png', bbox_inches='tight')"
   ]
  },
  {
   "cell_type": "code",
   "execution_count": null,
   "metadata": {},
   "outputs": [],
   "source": []
  }
 ],
 "metadata": {
  "kernelspec": {
   "display_name": "Python 3 (ipykernel)",
   "language": "python",
   "name": "python3"
  },
  "language_info": {
   "codemirror_mode": {
    "name": "ipython",
    "version": 3
   },
   "file_extension": ".py",
   "mimetype": "text/x-python",
   "name": "python",
   "nbconvert_exporter": "python",
   "pygments_lexer": "ipython3",
   "version": "3.9.13"
  }
 },
 "nbformat": 4,
 "nbformat_minor": 4
}
